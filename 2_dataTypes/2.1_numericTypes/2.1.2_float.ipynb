{
 "cells": [
  {
   "cell_type": "markdown",
   "metadata": {},
   "source": [
    "# Float "
   ]
  },
  {
   "cell_type": "code",
   "execution_count": 1,
   "metadata": {},
   "outputs": [
    {
     "name": "stdout",
     "output_type": "stream",
     "text": [
      "5.0\n",
      "20.0\n",
      "100.0\n"
     ]
    }
   ],
   "source": [
    "# All operations on floating point numbers always result in float value\n",
    "print(10.0 // 2) # 5.0\n",
    "print(10.0 * 2) # 20.0\n",
    "print(10.0 ** 2) # 100.0"
   ]
  },
  {
   "cell_type": "code",
   "execution_count": 2,
   "metadata": {},
   "outputs": [
    {
     "name": "stdout",
     "output_type": "stream",
     "text": [
      "True\n",
      "False\n"
     ]
    }
   ],
   "source": [
    "# is_integer()\n",
    "# Used to determine if a floating-point number represents an integer value.\n",
    "# The method returns True if the float is an integer, and False otherwise.\n",
    "print(2.0.is_integer()) # True\n",
    "print(2.3.is_integer())# False"
   ]
  }
 ],
 "metadata": {
  "kernelspec": {
   "display_name": "_virtualEnv",
   "language": "python",
   "name": "python3"
  },
  "language_info": {
   "codemirror_mode": {
    "name": "ipython",
    "version": 3
   },
   "file_extension": ".py",
   "mimetype": "text/x-python",
   "name": "python",
   "nbconvert_exporter": "python",
   "pygments_lexer": "ipython3",
   "version": "3.10.4"
  }
 },
 "nbformat": 4,
 "nbformat_minor": 2
}

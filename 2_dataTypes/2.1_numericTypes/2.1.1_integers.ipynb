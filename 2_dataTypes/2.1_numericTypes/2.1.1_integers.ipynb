{
 "cells": [
  {
   "cell_type": "markdown",
   "metadata": {},
   "source": [
    "# Integers"
   ]
  },
  {
   "cell_type": "code",
   "execution_count": null,
   "metadata": {},
   "outputs": [],
   "source": [
    "# Integers, floats, and complex numbers are immutable, which means their\n",
    "# values cannot be changed after creation. When you perform operations on \n",
    "# these types, new objects are created to represent the result.\n",
    "a = 10\n",
    "print(id(a)) # 1365684781584\n",
    "a += 1\n",
    "print(id(a)) # 1365684781616\n",
    "# Address may be changed in each execution. Above values are just examples  \n",
    "# Here we can see that the address of variable 'a' is changed after the increment operation \n",
    "# which indicate the creation of new object \n"
   ]
  },
  {
   "cell_type": "code",
   "execution_count": null,
   "metadata": {},
   "outputs": [],
   "source": [
    "# Division is of two types / and // (floor division).\n",
    "# // takes the lower integer value of the result , avoiding the fractional part \n",
    "\n",
    "print(5/2) # 2.5\n",
    "print(5//2) # 2\n",
    "print(-10/3) # -3.3333333333333335\n",
    "print(-10//3) # -4\n",
    "# In the last result it is -4 because the -3.3333.. lies in between -3 and -4 \n",
    "# and the lowest value is -4 "
   ]
  },
  {
   "cell_type": "code",
   "execution_count": null,
   "metadata": {},
   "outputs": [],
   "source": [
    "\n",
    "# Exponent \n",
    "print(2 ** 3) # 8\n",
    "print(2 ** 0.5) # 1.4142135623730951"
   ]
  },
  {
   "cell_type": "markdown",
   "metadata": {},
   "source": [
    "## Methods"
   ]
  },
  {
   "cell_type": "code",
   "execution_count": 2,
   "metadata": {},
   "outputs": [
    {
     "name": "stdout",
     "output_type": "stream",
     "text": [
      "20\n",
      "20\n"
     ]
    }
   ],
   "source": [
    "# ABSOLUTE VALUE \n",
    "x = abs(-20) # 20\n",
    "print(x)\n",
    "y = abs(-20) # 20 \n",
    "print(y)\n"
   ]
  },
  {
   "cell_type": "code",
   "execution_count": 4,
   "metadata": {},
   "outputs": [
    {
     "name": "stdout",
     "output_type": "stream",
     "text": [
      "quotient is 3 and remainder is 1\n"
     ]
    }
   ],
   "source": [
    "# DIVMOD\n",
    "# It accepts two arguments dividend ( numerator - the number to be divided ) \n",
    "# and the divisor ( denominator - the number by which the numerator is divided ) \n",
    "# and returns a tuple of quotient and remainder .\n",
    "# syntax ==> quotient, remainder  = divmod(dividend, divisor)\n",
    "\n",
    "q, r = divmod(10, 3)\n",
    "print(f\"quotient is {q} and remainder is {r}\") # quotient is 3 and remainder is 1"
   ]
  },
  {
   "cell_type": "code",
   "execution_count": 7,
   "metadata": {},
   "outputs": [
    {
     "name": "stdout",
     "output_type": "stream",
     "text": [
      "100\n",
      "1\n"
     ]
    }
   ],
   "source": [
    "# POW \n",
    "# Used to compute the power of a number\n",
    "\n",
    "print(pow(10, 2)) # 100\n",
    "\n",
    "# The third parameter is modulus . If it is specified then the modulus of result \n",
    "# with the passed number will be performed \n",
    "\n",
    "print(pow(6, 2, 5)) # 1\n",
    "# In the above case operation performed is (6 ** 2) % 5\n",
    "# 6 ** 2 = 36 and 36 % 5 = 1\n"
   ]
  },
  {
   "cell_type": "code",
   "execution_count": 11,
   "metadata": {},
   "outputs": [
    {
     "name": "stdout",
     "output_type": "stream",
     "text": [
      "22\n",
      "22.102\n"
     ]
    }
   ],
   "source": [
    "# ROUND\n",
    "# - Used to round a number to a specified precision.\n",
    "# Syntax ==> x = round(number, ndigits=None)\n",
    "print(round(22.10)) # 22\n",
    "print(round(22.1020304050, 3)) # 22.102\n",
    "# 3 indicates 3 digits after decimal point "
   ]
  }
 ],
 "metadata": {
  "kernelspec": {
   "display_name": "_virtualEnv",
   "language": "python",
   "name": "python3"
  },
  "language_info": {
   "codemirror_mode": {
    "name": "ipython",
    "version": 3
   },
   "file_extension": ".py",
   "mimetype": "text/x-python",
   "name": "python",
   "nbconvert_exporter": "python",
   "pygments_lexer": "ipython3",
   "version": "3.10.4"
  }
 },
 "nbformat": 4,
 "nbformat_minor": 2
}

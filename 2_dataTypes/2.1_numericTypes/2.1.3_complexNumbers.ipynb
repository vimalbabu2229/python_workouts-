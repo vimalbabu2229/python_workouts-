{
 "cells": [
  {
   "cell_type": "markdown",
   "metadata": {},
   "source": [
    "# Complex Numbers \n",
    "- It is of the form x + yj"
   ]
  },
  {
   "cell_type": "code",
   "execution_count": 3,
   "metadata": {},
   "outputs": [
    {
     "name": "stdout",
     "output_type": "stream",
     "text": [
      "(1+13j)\n",
      "(10+0j)\n"
     ]
    }
   ],
   "source": [
    "# In python j represents the imaginary part\n",
    "print(1 + 13j) # (1+13j)\n",
    "# print(1 + 13i) # SyntaxError: invalid decimal literal\n",
    "\n",
    "# Also the imaginary part should have a value or a number \n",
    "# print(10 + j) # It is invalid \n",
    "# NameError: Python will think `j` as a variable which is undeclared \n",
    "print(10 + 0j) # (10+0j) , valid "
   ]
  },
  {
   "cell_type": "code",
   "execution_count": 5,
   "metadata": {},
   "outputs": [
    {
     "name": "stdout",
     "output_type": "stream",
     "text": [
      "(2+5j)\n",
      "(10+0j)\n",
      "(10+0j)\n",
      "13j\n"
     ]
    }
   ],
   "source": [
    "# Complex numbers can be created using the complex() method\n",
    "x = complex(2, 5) # (real, img)\n",
    "print(x) # (2+5j)\n",
    "\n",
    "# Imaginary part is by default 0\n",
    "print(complex(10)) # (10+0j)\n",
    "print(complex(real=10)) # (10+0j)\n",
    "\n",
    "# If only the imaginary part is provided  \n",
    "print(complex(imag=13)) # 13j"
   ]
  },
  {
   "cell_type": "code",
   "execution_count": 8,
   "metadata": {},
   "outputs": [
    {
     "name": "stdout",
     "output_type": "stream",
     "text": [
      "(7+10j)\n",
      "(-1-2j)\n",
      "(-12+34j)\n",
      "(0.6923076923076924-0.038461538461538484j)\n"
     ]
    }
   ],
   "source": [
    "# All arithmetic operations are possible on complex numbers , \n",
    "# except floor division and  modulo (%)\n",
    "\n",
    "x = 3 + 4j\n",
    "y = 4 + 6j\n",
    "\n",
    "print(x + y) # (7+10j)\n",
    "print(x - y) # (-1-2j)\n",
    "print(x * y) # (-12+34j)\n",
    "print(x / y) # (0.6923076923076924-0.038461538461538484j)\n",
    "\n",
    "# print(x // y) # TypeError\n",
    "# print(x % y) #TypeError\n"
   ]
  }
 ],
 "metadata": {
  "kernelspec": {
   "display_name": "_virtualEnv",
   "language": "python",
   "name": "python3"
  },
  "language_info": {
   "codemirror_mode": {
    "name": "ipython",
    "version": 3
   },
   "file_extension": ".py",
   "mimetype": "text/x-python",
   "name": "python",
   "nbconvert_exporter": "python",
   "pygments_lexer": "ipython3",
   "version": "3.10.4"
  }
 },
 "nbformat": 4,
 "nbformat_minor": 2
}

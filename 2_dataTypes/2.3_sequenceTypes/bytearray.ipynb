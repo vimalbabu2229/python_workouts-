{
 "cells": [
  {
   "cell_type": "markdown",
   "metadata": {},
   "source": [
    "# Bytearray (refer bytes first)\n",
    "- Same  as the bytes , but it is **mutable** and allow in-place modifications"
   ]
  },
  {
   "cell_type": "code",
   "execution_count": null,
   "metadata": {},
   "outputs": [],
   "source": [
    "encoded_data = bytearray([123, 124, 234, 128])\n",
    "encoded_data[0] = 255\n",
    "print(list(encoded_data)) # [255, 124, 234, 128]"
   ]
  },
  {
   "cell_type": "markdown",
   "metadata": {},
   "source": [
    "## Additional Methods\n",
    "- Due to the mutability it supports some additional methods  "
   ]
  },
  {
   "cell_type": "code",
   "execution_count": null,
   "metadata": {},
   "outputs": [],
   "source": [
    "encoded_data = bytearray([1, 2, 3, 4, 5, 6])\n",
    "print(list(encoded_data)) # [1, 2, 3, 4, 5, 6]\n",
    "\n",
    "# append a single item to the end \n",
    "encoded_data.append(123)\n",
    "print(list(encoded_data)) # [1, 2, 3, 4, 5, 6, 123]\n",
    "\n",
    "# Extends the bytearray by appending all the elements from an iterable.\n",
    "encoded_data.extend([10, 20, 30])\n",
    "print(list(encoded_data)) # [1, 2, 3, 4, 5, 6, 123, 10, 20, 30]\n",
    "\n",
    "# Inserts a single item at a specific index \n",
    "# encoded_data.insert(index, item)\n",
    "encoded_data.insert(2, 255)\n",
    "print(list(encoded_data)) # [1, 2, 255, 3, 4, 5, 6, 123, 10, 20, 30]\n",
    "\n",
    "# Removes and returns the item at an index . \n",
    "# If no index is specified, removes and returns the last item in the bytearray.\n",
    "print(encoded_data.pop(2)) # 255\n",
    "print(encoded_data.pop()) # 30\n",
    "print(list(encoded_data)) # [1, 2, 3, 4, 5, 6, 123, 10, 20]\n",
    "\n",
    "# Removes the first occurrence of a value in the bytearray\n",
    "encoded_data.remove(3)\n",
    "print(list(encoded_data)) # [1, 2, 4, 5, 6, 123, 10, 20]\n",
    "\n",
    "# Reverses the order of the items in the bytearray in place.\n",
    "encoded_data.reverse()\n",
    "print(list(encoded_data)) # [20, 10, 123, 6, 5, 4, 2, 1]\n",
    "\n",
    "# Removes all items from the bytearray.\n",
    "encoded_data.clear()\n",
    "print(list(encoded_data)) # []"
   ]
  }
 ],
 "metadata": {
  "kernelspec": {
   "display_name": "_virtualEnv",
   "language": "python",
   "name": "python3"
  },
  "language_info": {
   "codemirror_mode": {
    "name": "ipython",
    "version": 3
   },
   "file_extension": ".py",
   "mimetype": "text/x-python",
   "name": "python",
   "nbconvert_exporter": "python",
   "pygments_lexer": "ipython3",
   "version": "3.10.4"
  }
 },
 "nbformat": 4,
 "nbformat_minor": 2
}

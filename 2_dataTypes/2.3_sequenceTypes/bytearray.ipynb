{
 "cells": [
  {
   "cell_type": "markdown",
   "metadata": {},
   "source": [
    "# Bytearray (refer bytes first)\n",
    "- Same  as the bytes , but it is **mutable** and allow in-place modifications"
   ]
  },
  {
   "cell_type": "code",
   "execution_count": null,
   "metadata": {},
   "outputs": [],
   "source": [
    "encoded_data = bytearray([123, 124, 234, 128])\n",
    "encoded_data[0] = 255\n",
    "print(list(encoded_data)) # [255, 124, 234, 128]"
   ]
  },
  {
   "cell_type": "code",
   "execution_count": 22,
   "metadata": {},
   "outputs": [
    {
     "name": "stdout",
     "output_type": "stream",
     "text": [
      "bytearray(b'ABCDABCD')\n"
     ]
    }
   ],
   "source": [
    "#  Two bytearray objects can be concatenated using the '+' operator  \n",
    "arr = bytearray([65, 66, 67, 68])\n",
    "print(arr + arr) # bytearray(b'ABCDABCD')"
   ]
  },
  {
   "cell_type": "markdown",
   "metadata": {},
   "source": [
    "## Additional Methods\n",
    "- Due to the mutability it supports some additional methods  "
   ]
  },
  {
   "cell_type": "code",
   "execution_count": 11,
   "metadata": {},
   "outputs": [
    {
     "name": "stdout",
     "output_type": "stream",
     "text": [
      "[1, 2, 3, 4, 5, 6]\n",
      "[1, 2, 3, 4, 5, 6, 123]\n",
      "2\n",
      "[1, 2, 3, 4, 5, 6, 123, 10, 20, 30]\n",
      "[1, 2, 255, 3, 4, 5, 6, 123, 10, 20, 30]\n",
      "255\n",
      "30\n",
      "[1, 2, 3, 4, 5, 6, 123, 10, 20]\n",
      "[1, 2, 4, 5, 6, 123, 10, 20]\n",
      "1\n",
      "[20, 10, 123, 6, 5, 4, 2, 1]\n",
      "[]\n"
     ]
    }
   ],
   "source": [
    "encoded_data = bytearray([1, 2, 3, 4, 5, 6])\n",
    "print(list(encoded_data)) # [1, 2, 3, 4, 5, 6]\n",
    "\n",
    "# append a single item to the end \n",
    "encoded_data.append(123)\n",
    "print(list(encoded_data)) # [1, 2, 3, 4, 5, 6, 123]\n",
    "\n",
    "# search for the index of a particular item in the list\n",
    "# encoded_data.index(value, start, stop)\n",
    "print(encoded_data.index(3, 0, len(encoded_data))) # 2\n",
    "\n",
    "# Extends the bytearray by appending all the elements from an iterable.\n",
    "encoded_data.extend([10, 20, 30])\n",
    "print(list(encoded_data)) # [1, 2, 3, 4, 5, 6, 123, 10, 20, 30]\n",
    "\n",
    "# Inserts a single item at a specific index \n",
    "# encoded_data.insert(index, item)\n",
    "encoded_data.insert(2, 255)\n",
    "print(list(encoded_data)) # [1, 2, 255, 3, 4, 5, 6, 123, 10, 20, 30]\n",
    "\n",
    "# Removes and returns the item at an index . \n",
    "# If no index is specified, removes and returns the last item in the bytearray.\n",
    "print(encoded_data.pop(2)) # 255\n",
    "print(encoded_data.pop()) # 30\n",
    "print(list(encoded_data)) # [1, 2, 3, 4, 5, 6, 123, 10, 20]\n",
    "\n",
    "# Removes the first occurrence of a value in the bytearray\n",
    "encoded_data.remove(3)\n",
    "print(list(encoded_data)) # [1, 2, 4, 5, 6, 123, 10, 20]\n",
    "\n",
    "# To count the number of occurrence of an item in the list \n",
    "print(encoded_data.count(123)) # 1\n",
    "\n",
    "# Reverses the order of the items in the bytearray in place.\n",
    "encoded_data.reverse()\n",
    "print(list(encoded_data)) # [20, 10, 123, 6, 5, 4, 2, 1]\n",
    "\n",
    "# Removes all items from the bytearray.\n",
    "encoded_data.clear()\n",
    "print(list(encoded_data)) # []"
   ]
  },
  {
   "cell_type": "code",
   "execution_count": 15,
   "metadata": {},
   "outputs": [
    {
     "name": "stdout",
     "output_type": "stream",
     "text": [
      "[1, 3, 5, 7]\n"
     ]
    }
   ],
   "source": [
    "# Bytearray also supports slicing \n",
    "arr = bytearray([1, 2, 3, 4, 5, 6, 7]) \n",
    "new_arr = arr[0:len(arr):2]\n",
    "print(list(new_arr)) # [1, 3, 5, 7]"
   ]
  },
  {
   "cell_type": "code",
   "execution_count": 33,
   "metadata": {},
   "outputs": [
    {
     "name": "stdout",
     "output_type": "stream",
     "text": [
      "b'Hello#World'\n"
     ]
    }
   ],
   "source": [
    "# Bytearray also supports join()\n",
    "# Here the argument to the function should be a sequence (list, tuple, ...) of \n",
    "# bytearray objects \n",
    "arr1 = bytearray(b\"Hello\")\n",
    "arr2 = bytearray(b\"World\")\n",
    "print(b\"#\".join([arr1, arr2])) # b'Hello#World'\n"
   ]
  },
  {
   "cell_type": "code",
   "execution_count": null,
   "metadata": {},
   "outputs": [],
   "source": []
  }
 ],
 "metadata": {
  "kernelspec": {
   "display_name": "_virtualEnv",
   "language": "python",
   "name": "python3"
  },
  "language_info": {
   "codemirror_mode": {
    "name": "ipython",
    "version": 3
   },
   "file_extension": ".py",
   "mimetype": "text/x-python",
   "name": "python",
   "nbconvert_exporter": "python",
   "pygments_lexer": "ipython3",
   "version": "3.10.4"
  }
 },
 "nbformat": 4,
 "nbformat_minor": 2
}

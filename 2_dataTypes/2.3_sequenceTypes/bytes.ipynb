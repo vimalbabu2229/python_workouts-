{
 "cells": [
  {
   "cell_type": "markdown",
   "metadata": {},
   "source": [
    "# Bytes\n",
    "- It is immutable"
   ]
  },
  {
   "cell_type": "code",
   "execution_count": null,
   "metadata": {},
   "outputs": [],
   "source": [
    "# create from a list of ASCII codes \n",
    "data = bytes([65, 66, 67, 68])\n",
    "print(data) # b'ABCD"
   ]
  },
  {
   "cell_type": "code",
   "execution_count": null,
   "metadata": {},
   "outputs": [],
   "source": [
    "# providing just a number to the bytes() constructor will create sequence of null bytes \n",
    "# with a length as the specified number \n",
    "data =bytes(5)\n",
    "print(data) # b'\\x00\\x00\\x00\\x00\\x00'\n",
    "\n",
    "# data[0] = 86 # error ==> 'bytes' object does not support item assignment"
   ]
  },
  {
   "cell_type": "markdown",
   "metadata": {},
   "source": [
    "## Creating the bytes object from a string\n"
   ]
  },
  {
   "cell_type": "code",
   "execution_count": null,
   "metadata": {},
   "outputs": [],
   "source": [
    "# if a string is used in the constructor then the encoding must be specified \n",
    "data1 = bytes(\"Hello\", \"utf-8\")\n",
    "print(data1) # b'Hello'\n",
    "\n",
    "# or can use the bytes literal , but here the source data must be a ASCII character \n",
    "# means for non - ASCII characters like words in Malayalam or Hindi, it cannot be used \n",
    "data2 = bytes(b\"Hey\")\n",
    "print(data2) # b'Hey'\n",
    "\n",
    "# we can create a bytes object from a string using encode() method \n",
    "data = \"hello\"\n",
    "encoded_data = data.encode(\"ascii\")\n",
    "print(encoded_data) # b'hello'\n",
    "\n"
   ]
  },
  {
   "cell_type": "markdown",
   "metadata": {},
   "source": [
    "## Decode the bytes object\n",
    "\n",
    "**Syntax :**\n",
    "**`encoded_data.decode(encoding_type, errors)`**"
   ]
  },
  {
   "cell_type": "code",
   "execution_count": null,
   "metadata": {},
   "outputs": [],
   "source": [
    "encoded_data = b\"Hello hai\"\n",
    "# can convert the bytes object to list or any other iterables to see the list \n",
    "# of code points (the numbers corresponding to characters)\n",
    "print(list(encoded_data)) # [72, 101, 108, 108, 111, 32, 104, 97, 105]\n",
    "decoded_data = encoded_data.decode(\"ascii\")\n",
    "print(decoded_data) # Hello hai"
   ]
  },
  {
   "cell_type": "markdown",
   "metadata": {},
   "source": [
    "## Handling errors while encoding and decoding\n",
    "- We can use the `errors` parameter of `bytes()` , `encode()` or `decode()`  to specify how to handle errors "
   ]
  },
  {
   "cell_type": "code",
   "execution_count": null,
   "metadata": {},
   "outputs": [],
   "source": [
    "'''strict: This is the default value. It raises a UnicodeEncodeError if the string \n",
    "contains characters that cannot be represented in the specified encoding.'''\n",
    "# encoded_data = bytes(\"Hello ഹായ്\", \"ascii\", \"strict\") # UnicodeEncodeError\n",
    "encoded_data = bytes(\"Hello ഹായ്\", \"utf-8\", errors=\"strict\") \n",
    "print(encoded_data.decode('utf-8')) # Hello ഹായ്"
   ]
  },
  {
   "cell_type": "code",
   "execution_count": null,
   "metadata": {},
   "outputs": [],
   "source": [
    "'''ignore: It ignores the characters that cannot be represented in the specified\n",
    "encoding and creates the bytes object with the remaining characters.'''\n",
    "encoded_data = bytes(\"Hello ഹായ്\", \"ascii\", \"ignore\") \n",
    "print(encoded_data) # b'Hello '\n",
    "# Here the word 'ഹായ്' is ignored because it cannot be encoded using ASCII"
   ]
  },
  {
   "cell_type": "code",
   "execution_count": null,
   "metadata": {},
   "outputs": [],
   "source": [
    "'''replace: It replaces the characters that cannot be represented in \n",
    "the specified encoding with a replacement character (often ?).'''\n",
    "encoded_data = bytes(\"Hello ഹായ്\", \"ascii\", \"replace\")\n",
    "print(encoded_data)  # b'Hello ????'\n"
   ]
  },
  {
   "cell_type": "code",
   "execution_count": null,
   "metadata": {},
   "outputs": [],
   "source": [
    "'''xmlcharrefreplace: It replaces the characters with the appropriate \n",
    "XML numeric character reference.'''\n",
    "encoded_data = bytes(\"Hello ഹായ്\", \"ascii\", \"xmlcharrefreplace\")\n",
    "print(encoded_data) # b'Hello &#3385;&#3390;&#3375;&#3405;'"
   ]
  },
  {
   "cell_type": "code",
   "execution_count": null,
   "metadata": {},
   "outputs": [],
   "source": [
    "# the parameters is the same while using decode() and encode() methods \n",
    "encoded_data = \"Hello ഹായ്\".encode(\"utf-8\", errors=\"strict\")\n",
    "print(encoded_data.decode('ascii', errors=\"ignore\")) # Hello"
   ]
  },
  {
   "cell_type": "markdown",
   "metadata": {},
   "source": [
    "## Other Methods "
   ]
  },
  {
   "cell_type": "code",
   "execution_count": null,
   "metadata": {},
   "outputs": [],
   "source": [
    "encoded_data = b\"Hai i am vimal\"\n",
    "print(list(encoded_data)) # [72, 97, 105, 32, 105, 32, 97, 109, 32, 118, 105, 109, 97, 108]\n",
    "\n",
    "# to check whether the bytes object starts with a character \n",
    "print(encoded_data.startswith(b\"Ha\")) # True\n",
    "#Argument type should be bytes \n",
    "\n",
    "# to check whether the bytes object ends with a character \n",
    "print(encoded_data.endswith(b\"l\")) # True\n",
    "\n",
    "# To get the first occurrence of a sequence  \n",
    "print(encoded_data.index(b\"i am\")) # 4\n",
    "\n",
    "# to get a string of hexadecimal representation of the bytes.\n",
    "print(encoded_data.hex()) # 486169206920616d2076696d616c"
   ]
  }
 ],
 "metadata": {
  "kernelspec": {
   "display_name": "_virtualEnv",
   "language": "python",
   "name": "python3"
  },
  "language_info": {
   "codemirror_mode": {
    "name": "ipython",
    "version": 3
   },
   "file_extension": ".py",
   "mimetype": "text/x-python",
   "name": "python",
   "nbconvert_exporter": "python",
   "pygments_lexer": "ipython3",
   "version": "3.10.4"
  }
 },
 "nbformat": 4,
 "nbformat_minor": 2
}

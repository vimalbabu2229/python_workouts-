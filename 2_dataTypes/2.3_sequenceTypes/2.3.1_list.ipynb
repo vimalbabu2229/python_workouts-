{
 "cells": [
  {
   "cell_type": "markdown",
   "metadata": {},
   "source": [
    "# List"
   ]
  },
  {
   "cell_type": "code",
   "execution_count": 13,
   "metadata": {},
   "outputs": [
    {
     "name": "stdout",
     "output_type": "stream",
     "text": [
      "1\n",
      "3\n"
     ]
    }
   ],
   "source": [
    "#INDEX\n",
    "new_list = [1, 2, 3, 2, 5, 6] \n",
    "print(new_list.index(2)) # 1\n",
    "print(new_list.index(2, 2, 4)) # 3\n",
    "# In the above call search for 2 will be taken from index 2 to index 3"
   ]
  },
  {
   "cell_type": "code",
   "execution_count": 18,
   "metadata": {},
   "outputs": [
    {
     "name": "stdout",
     "output_type": "stream",
     "text": [
      "3\n"
     ]
    }
   ],
   "source": [
    "# COUNT \n",
    "new_list = [1, 2, 3, 1, 3, 4, 1]\n",
    "print(new_list.count(1)) # 3"
   ]
  },
  {
   "cell_type": "markdown",
   "metadata": {},
   "source": [
    "## Slice"
   ]
  },
  {
   "cell_type": "code",
   "execution_count": 17,
   "metadata": {},
   "outputs": [
    {
     "name": "stdout",
     "output_type": "stream",
     "text": [
      "[1, 3, 5]\n"
     ]
    }
   ],
   "source": [
    "# SLICE A PORTION\n",
    "# list[start:stop:step]\n",
    "new_list = [1, 2, 3, 4, 5, 6, 7, 8]\n",
    "print(new_list[0:6:2]) # [1, 3, 5]"
   ]
  },
  {
   "cell_type": "code",
   "execution_count": 18,
   "metadata": {},
   "outputs": [
    {
     "name": "stdout",
     "output_type": "stream",
     "text": [
      "[1, 2, 3, 4, 5]\n",
      "[1, 2, 3]\n",
      "[4, 5, 6, 7]\n",
      "[1, 2, 3, 4, 5, 6, 7]\n",
      "[6, 7]\n",
      "[1, 2, 3, 4, 5]\n",
      "[1, 3, 5, 7]\n"
     ]
    }
   ],
   "source": [
    "# If start is omitted, it defaults to the beginning of the sequence.\n",
    "# If stop is omitted, it defaults to the end of the sequence.\n",
    "# If step is omitted, it defaults to 1.\n",
    "new_list = [1, 2, 3, 4, 5, 6, 7]\n",
    "print(new_list[0:5]) # [1, 2, 3, 4, 5]\n",
    "print(new_list[ :3]) # [1, 2, 3]\n",
    "print(new_list[3 : ]) # [4, 5, 6, 7]\n",
    "print(new_list[ : ]) # [1, 2, 3, 4, 5, 6, 7]\n",
    "print(new_list[-2 : ]) # [6, 7] --> takes last 2 items \n",
    "print(new_list[: -2]) # [1, 2, 3, 4, 5] --> takes items till 2nd last element \n",
    "# to get the alternate element we can use the step as 2 as below \n",
    "print(new_list[::2]) # [1, 3, 5, 7]"
   ]
  },
  {
   "cell_type": "code",
   "execution_count": 19,
   "metadata": {},
   "outputs": [
    {
     "name": "stdout",
     "output_type": "stream",
     "text": [
      "[7, 6, 5, 4, 3, 2, 1]\n",
      "[5, 4, 3, 2, 1]\n"
     ]
    }
   ],
   "source": [
    "# Slicing can also be used to reverse an iterable . \n",
    "# For that we can use the step as -1 \n",
    "new_list = [1, 2, 3, 4, 5, 6, 7]\n",
    "print(new_list[::-1]) # [7, 6, 5, 4, 3, 2, 1]\n",
    "\n",
    "# In the above call the default of start is taken as the end index and the \n",
    "# default of end is taken as the 0th index . So it starts from the end to start \n",
    "# means reverse . Considering the another example,\n",
    "print(new_list[4::-1]) # [5, 4, 3, 2, 1]\n",
    "# In the above call ,iteration starts from the 4th index to the first index "
   ]
  },
  {
   "cell_type": "code",
   "execution_count": 21,
   "metadata": {},
   "outputs": [
    {
     "name": "stdout",
     "output_type": "stream",
     "text": [
      "[]\n"
     ]
    }
   ],
   "source": [
    "# When slicing in reverse order, the start index should come after the stop index\n",
    "new_list = [1, 2, 3, 2, 3,4, 5, 6]\n",
    "print(new_list[3:-1:-1]) # []\n",
    "# In the above case, start is 3, and stop is -1, which is before 3. \n",
    "# Since the start index precedes the stop index when slicing in reverse, \n",
    "# the result is an empty list."
   ]
  },
  {
   "cell_type": "markdown",
   "metadata": {},
   "source": [
    "## Add a new element "
   ]
  },
  {
   "cell_type": "code",
   "execution_count": null,
   "metadata": {},
   "outputs": [],
   "source": [
    "# APPEND\n",
    "# Add a new element at the end \n",
    "new_list = [1, 2, 3, 4, 5, 6]\n",
    "new_list.append(60)\n",
    "print(new_list) # [1, 2, 3, 4, 5, 6, 60]"
   ]
  },
  {
   "cell_type": "code",
   "execution_count": null,
   "metadata": {},
   "outputs": [],
   "source": [
    "# EXTEND\n",
    "new_list = [1, 2, 3, 4, 5, 6]\n",
    "# Add set of elements as an iterable at the end. Argument can be a list, tuple, set, ...\n",
    "new_list.extend([100, 200])\n",
    "print(new_list) # [1, 2, 3, 4, 5, 6, 100, 200]\n",
    "# If a dictionary is passed , then only the key will be taken  \n",
    "new_list.extend({\"num1\": 1, \"num2\": 2})\n",
    "print(new_list) # [1, 2, 3, 4, 5, 6, 100, 200, 'num1', 'num2']\n"
   ]
  },
  {
   "cell_type": "code",
   "execution_count": null,
   "metadata": {},
   "outputs": [],
   "source": [
    "# INSERT \n",
    "new_list = [1, 2, 3, 4, 5]\n",
    "new_list.insert(1, 100) # (index , element )\n",
    "print(new_list) # [1, 100, 2, 3, 4, 5]"
   ]
  },
  {
   "cell_type": "markdown",
   "metadata": {},
   "source": [
    "## Remove elements "
   ]
  },
  {
   "cell_type": "code",
   "execution_count": null,
   "metadata": {},
   "outputs": [],
   "source": [
    "# POP\n",
    "new_list = [1, 2, 3, 4, 5, 6]\n",
    "element = new_list.pop() # 6\n",
    "# can be used to remove item at a particular index \n",
    "element = new_list.pop(1) # 2\n",
    "print(new_list) # [1, 3, 4, 5]"
   ]
  },
  {
   "cell_type": "code",
   "execution_count": null,
   "metadata": {},
   "outputs": [],
   "source": [
    "# REMOVE \n",
    "new_list = [1, 2, 3, 4, 5, 6]\n",
    "new_list.remove(4)\n",
    "print(new_list) # [1, 2, 3, 5, 6]"
   ]
  },
  {
   "cell_type": "code",
   "execution_count": null,
   "metadata": {},
   "outputs": [],
   "source": [
    "# CLEAR\n",
    "# To clear the entire list \n",
    "new_list = [1, 2, 3, 4]\n",
    "new_list.clear()\n",
    "print(new_list) # []"
   ]
  },
  {
   "cell_type": "markdown",
   "metadata": {},
   "source": [
    "## Reverse "
   ]
  },
  {
   "cell_type": "code",
   "execution_count": 23,
   "metadata": {},
   "outputs": [
    {
     "name": "stdout",
     "output_type": "stream",
     "text": [
      "[4, 3, 2, 1]\n"
     ]
    }
   ],
   "source": [
    "arr = [1, 2, 3, 4]\n",
    "arr.reverse()\n",
    "print(arr) #[4, 3, 2, 1]\n",
    "\n",
    "# Slicing can also used for reversing , which is already discussed above"
   ]
  }
 ],
 "metadata": {
  "kernelspec": {
   "display_name": "_virtualEnv",
   "language": "python",
   "name": "python3"
  },
  "language_info": {
   "codemirror_mode": {
    "name": "ipython",
    "version": 3
   },
   "file_extension": ".py",
   "mimetype": "text/x-python",
   "name": "python",
   "nbconvert_exporter": "python",
   "pygments_lexer": "ipython3",
   "version": "3.10.4"
  }
 },
 "nbformat": 4,
 "nbformat_minor": 2
}

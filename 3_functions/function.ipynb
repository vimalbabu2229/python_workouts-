{
 "cells": [
  {
   "cell_type": "markdown",
   "metadata": {},
   "source": [
    "# Functions\n"
   ]
  },
  {
   "cell_type": "code",
   "execution_count": null,
   "metadata": {},
   "outputs": [],
   "source": [
    "# / for position only arguments , means all arguments before /must be passed \n",
    "# position based, cannot be passed as keyword arguments \n",
    "\n",
    "# * is for keyword arguments , means all the arguments after * must be passed \n",
    "# as keyword arguments \n",
    "\n",
    "# by default(without / or *) all arguments can be passed in both ways \n",
    "\n",
    "def fn(x, y, /, *, z) -> None:\n",
    "    print(f\"x= {x}, y = {y}, Z = {z}\")\n",
    "\n",
    "fn(x=10, y=20, z=30)"
   ]
  }
 ],
 "metadata": {
  "language_info": {
   "name": "python"
  }
 },
 "nbformat": 4,
 "nbformat_minor": 2
}

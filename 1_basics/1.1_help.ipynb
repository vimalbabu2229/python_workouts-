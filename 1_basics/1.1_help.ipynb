{
 "cells": [
  {
   "cell_type": "markdown",
   "metadata": {},
   "source": [
    "# Help Function \n",
    "- The help() function in Python is used to display documentation about modules, functions, classes, and methods. When called with an object as an argument, it displays information about the object, including its docstring.\n",
    "- A **docstring** is a string literal that occurs as the first statement in a module, function, class, or method definition .Docstrings are enclosed in triple quotes(either single or double) and are used to describe the purpose, usage, and behavior of the ... object."
   ]
  },
  {
   "cell_type": "code",
   "execution_count": 3,
   "metadata": {},
   "outputs": [
    {
     "name": "stdout",
     "output_type": "stream",
     "text": [
      "Help on built-in function sort:\n",
      "\n",
      "sort(*, key=None, reverse=False) method of builtins.list instance\n",
      "    Sort the list in ascending order and return None.\n",
      "    \n",
      "    The sort is in-place (i.e. the list itself is modified) and stable (i.e. the\n",
      "    order of two equal elements is maintained).\n",
      "    \n",
      "    If a key function is given, apply it once to each list item and sort them,\n",
      "    ascending or descending, according to their function values.\n",
      "    \n",
      "    The reverse flag can be set to sort in descending order.\n",
      "\n",
      "Help on built-in function id in module builtins:\n",
      "\n",
      "id(obj, /)\n",
      "    Return the identity of an object.\n",
      "    \n",
      "    This is guaranteed to be unique among simultaneously existing objects.\n",
      "    (CPython uses the object's memory address.)\n",
      "\n"
     ]
    }
   ],
   "source": [
    "help([].sort) # Print the documentation of list.sort() function \n",
    "'''sort(*, key=None, reverse=False) method of builtins.list instance\n",
    "    Sort the list in ascending order and return None.\n",
    "    \n",
    "    The sort is in-place (i.e. the list itself is modified) and stable (i.e. the\n",
    "    order of two equal elements is maintained).\n",
    "    \n",
    "    If a key function is given, apply it once to each list item and sort them,\n",
    "    ascending or descending, according to their function values.\n",
    "    \n",
    "    The reverse flag can be set to sort in descending order.\n",
    "'''\n",
    "# In the function signature * is used to indicate the arguments after that should be \n",
    "# passed as keyword arguments \n",
    "\n",
    "help(id) # Prints the documentation of id()\n",
    "'''Help on built-in function id in module builtins:\n",
    "\n",
    "id(obj, /)\n",
    "    Return the identity of an object.\n",
    "    \n",
    "    This is guaranteed to be unique among simultaneously existing objects.\n",
    "    (CPython uses the object's memory address.)'''\n",
    "# In the function signature / is used to indicate the arguments before that should be \n",
    "# passed as positional arguments"
   ]
  }
 ],
 "metadata": {
  "kernelspec": {
   "display_name": "_virtualEnv",
   "language": "python",
   "name": "python3"
  },
  "language_info": {
   "codemirror_mode": {
    "name": "ipython",
    "version": 3
   },
   "file_extension": ".py",
   "mimetype": "text/x-python",
   "name": "python",
   "nbconvert_exporter": "python",
   "pygments_lexer": "ipython3",
   "version": "3.10.4"
  }
 },
 "nbformat": 4,
 "nbformat_minor": 2
}

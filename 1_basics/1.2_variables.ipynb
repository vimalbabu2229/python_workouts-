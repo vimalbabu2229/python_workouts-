{
 "cells": [
  {
   "cell_type": "markdown",
   "metadata": {},
   "source": [
    "# Variables\n",
    "- Points to data in the memory \n",
    "- **Below functions are general for all objects :** Some of them may need knowledge of advanced concepts like OOPs , which are discussed in upcoming modules "
   ]
  },
  {
   "cell_type": "code",
   "execution_count": null,
   "metadata": {},
   "outputs": [],
   "source": [
    "# ADDRESS\n",
    "# id() will print the address of the object pointed by the variable\n",
    "x = 20\n",
    "print(id(20))"
   ]
  },
  {
   "cell_type": "code",
   "execution_count": null,
   "metadata": {},
   "outputs": [],
   "source": [
    "# DIR\n",
    "# Returns a sorted list of names in the current local scope or a list of \n",
    "# attributes of an object.\n",
    "# If object is not provided, dir() returns the names in the current local scope.\n",
    "x = 20 \n",
    "y = 30 \n",
    "print(dir()) # We can see the x and y in the output list \n",
    "\n",
    "# If object is provided, dir(object) returns a list of attributes for that object.\n",
    "print(dir(22)) # Prints the available methods and properties of an integer "
   ]
  },
  {
   "cell_type": "code",
   "execution_count": null,
   "metadata": {},
   "outputs": [],
   "source": [
    "# ACCESSING THE DOCSTRING\n",
    "# A docstring is a string literal that occurs as the first statement in a module, \n",
    "# function, class, or method definition .Docstrings are enclosed in triple quotes \n",
    "# (either single or double) and are used to describe the purpose, usage, and \n",
    "# behavior of the ... object.\n",
    "def sample():\n",
    "    '''This is a sample function to check docstring''' # It should be at beginning \n",
    "    return \"sample\"\n",
    "\n",
    "print(sample.__doc__) # This is a sample function to check docstring\n",
    "# OR we can use the help() function \n",
    "help(sample)\n",
    "# Output :\n",
    "# Help on function sample in module __main__:\n",
    "\n",
    "# sample()\n",
    "#     This is a sample function to check docstring"
   ]
  },
  {
   "cell_type": "markdown",
   "metadata": {},
   "source": [
    "## getattr()"
   ]
  },
  {
   "cell_type": "code",
   "execution_count": null,
   "metadata": {},
   "outputs": [],
   "source": [
    "# GETATTR\n",
    "# Used to get the attribute value of an object \n",
    "x = [1, 2, 3]\n",
    "attr = getattr(x, \"__class__\") # __class__ attribute will print the type of the object \n",
    "print(attr) # <class 'list'>\n",
    "\n",
    "print(getattr(x, \"sort\")) # <built-in method sort of list object at 0x000001F091D7A740>\n",
    "\n",
    "# If the attribute may be doesn’t exist , we can use the third argument to \n",
    "# avoid raising an error \n",
    "print(getattr(x, \"fun\", \"Sorry it is not found\")) # Sorry it is not found\n",
    "\n"
   ]
  },
  {
   "cell_type": "code",
   "execution_count": 41,
   "metadata": {},
   "outputs": [
    {
     "name": "stdout",
     "output_type": "stream",
     "text": [
      "fun\n",
      "Attribute not valid \n"
     ]
    }
   ],
   "source": [
    "# getattr() allows you to handle cases where the attributes to be accessed \n",
    "# are determined at runtime or are obtained from external sources.\n",
    "\n",
    "# Below program will allow user to enter which property they want to access \n",
    "class Student:\n",
    "    def __init__(self) -> None:\n",
    "        self.name = \"Vimal\"\n",
    "        self.age = 23\n",
    "        self.course = \"B.Tech\"\n",
    "\n",
    "if __name__ == \"__main__\":\n",
    "    obj = Student()\n",
    "    attr = input(\"Enter the attribute: \")\n",
    "    print(attr)\n",
    "    value = getattr(obj, attr, \"Attribute not valid \")\n",
    "    print(value)\n"
   ]
  }
 ],
 "metadata": {
  "kernelspec": {
   "display_name": "_virtualEnv",
   "language": "python",
   "name": "python3"
  },
  "language_info": {
   "codemirror_mode": {
    "name": "ipython",
    "version": 3
   },
   "file_extension": ".py",
   "mimetype": "text/x-python",
   "name": "python",
   "nbconvert_exporter": "python",
   "pygments_lexer": "ipython3",
   "version": "3.10.4"
  }
 },
 "nbformat": 4,
 "nbformat_minor": 2
}
